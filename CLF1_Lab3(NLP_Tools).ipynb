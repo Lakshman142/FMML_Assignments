{
  "nbformat": 4,
  "nbformat_minor": 0,
  "metadata": {
    "colab": {
      "provenance": [],
      "include_colab_link": true
    },
    "kernelspec": {
      "name": "python3",
      "display_name": "Python 3"
    },
    "language_info": {
      "name": "python"
    }
  },
  "cells": [
    {
      "cell_type": "markdown",
      "metadata": {
        "id": "view-in-github",
        "colab_type": "text"
      },
      "source": [
        "<a href=\"https://colab.research.google.com/github/Lakshman142/FMML_Assignments/blob/main/CLF1_Lab3(NLP_Tools).ipynb\" target=\"_parent\"><img src=\"https://colab.research.google.com/assets/colab-badge.svg\" alt=\"Open In Colab\"/></a>"
      ]
    },
    {
      "cell_type": "markdown",
      "metadata": {
        "id": "kAKrrEmgLZ_J"
      },
      "source": [
        "# **FOUNDATIONS OF MODERN MACHINE LEARNING, IIIT Hyderabad**\n",
        "### MODULE: CLASSIFICATION-1\n",
        "### LAB-3 : Using KNN for Text Classification\n",
        "#### Module Coordinator: Tanvi Kamble\n",
        "\n",
        "\n",
        "---"
      ]
    },
    {
      "cell_type": "markdown",
      "source": [
        "## **Section 1: Understanding NLP tools** "
      ],
      "metadata": {
        "id": "_jeRAsurrdLY"
      }
    },
    {
      "cell_type": "markdown",
      "source": [
        "In this lab we will be using KNN on a real world NLP application i.e. is text classification. But first look at some NLP techniques for text classification and tools that we use when we want to use python for NLP."
      ],
      "metadata": {
        "id": "iB9N2m-HrgWY"
      }
    },
    {
      "cell_type": "markdown",
      "metadata": {
        "id": "WMJhTF89MmT_"
      },
      "source": [
        "## Section 1.2: Data Cleaning and Preprocessing step"
      ]
    },
    {
      "cell_type": "markdown",
      "metadata": {
        "id": "nRXVjJHk3urf"
      },
      "source": [
        "Raw text must be processed and converted into a form so that it is suitable to use with various machine-learning algorithms.  \n",
        "In case of text, there are lots of things that need to be taken into account.  \n",
        "\n",
        "\n",
        "1.   Removing numbers from the text\n",
        "2.   Handling capitalization and punctuation.\n",
        "3.   Stemming and Lemmatizing text.  \n",
        "\n",
        "And most importantly, one can't just use words or images directly in algorithms; they need to be converted into vectors- a form that algorithms can understand.\n",
        "\n"
      ]
    },
    {
      "cell_type": "markdown",
      "source": [
        "### **NLTK** \n",
        "NLTK (or Natural Language Tool Kit) is a commonly used library for processing text. We will use this tool in this lab. Lets first install it. \n"
      ],
      "metadata": {
        "id": "IYq4np0xqUBr"
      }
    },
    {
      "cell_type": "code",
      "metadata": {
        "colab": {
          "base_uri": "https://localhost:8080/"
        },
        "id": "wFOZHWV3_ABt",
        "outputId": "6c55e815-c157-484b-c178-b026129e9b85"
      },
      "source": [
        "import nltk\n",
        "nltk.download('stopwords')\n",
        "nltk.download('punkt')\n",
        "nltk.download('averaged_perceptron_tagger')\n",
        "nltk.download('wordnet')\n",
        "nltk.download('omw-1.4')"
      ],
      "execution_count": 2,
      "outputs": [
        {
          "output_type": "stream",
          "name": "stderr",
          "text": [
            "[nltk_data] Downloading package stopwords to /root/nltk_data...\n",
            "[nltk_data]   Unzipping corpora/stopwords.zip.\n",
            "[nltk_data] Downloading package punkt to /root/nltk_data...\n",
            "[nltk_data]   Unzipping tokenizers/punkt.zip.\n",
            "[nltk_data] Downloading package averaged_perceptron_tagger to\n",
            "[nltk_data]     /root/nltk_data...\n",
            "[nltk_data]   Unzipping taggers/averaged_perceptron_tagger.zip.\n",
            "[nltk_data] Downloading package wordnet to /root/nltk_data...\n",
            "[nltk_data] Downloading package omw-1.4 to /root/nltk_data...\n"
          ]
        },
        {
          "output_type": "execute_result",
          "data": {
            "text/plain": [
              "True"
            ]
          },
          "metadata": {},
          "execution_count": 2
        }
      ]
    },
    {
      "cell_type": "code",
      "metadata": {
        "id": "Gpgq3SQK5IOr"
      },
      "source": [
        "import re\n",
        "import numpy\n",
        "from nltk.corpus import stopwords\n",
        "from nltk.stem import WordNetLemmatizer\n",
        "from nltk.stem import SnowballStemmer\n",
        "from nltk.tokenize import word_tokenize\n",
        "from nltk import pos_tag\n",
        "from nltk.corpus import wordnet\n",
        "from sklearn.feature_extraction.text import CountVectorizer, TfidfVectorizer\n",
        "from bs4 import BeautifulSoup\n",
        "\n",
        "def cleanText(text, lemmatize, stemmer):\n",
        "    \"\"\"Method for cleaning text from train and test data. Removes numbers, punctuation, and capitalization. Stems or lemmatizes text.\"\"\"\n",
        "\n",
        "    if isinstance(text, float):\n",
        "        text = str(text)\n",
        "    if isinstance(text, numpy.int64):\n",
        "        text = str(text)\n",
        "    try:\n",
        "        text = text.decode()\n",
        "    except AttributeError: \n",
        "        pass\n",
        "\n",
        "    soup = BeautifulSoup(text, \"lxml\")\n",
        "    text = soup.get_text()\n",
        "    text = re.sub(r\"[^A-Za-z]\", \" \", text)\n",
        "    text = text.lower()\n",
        "\n",
        "\n",
        "    if lemmatize:\n",
        "        wordnet_lemmatizer = WordNetLemmatizer()\n",
        "\n",
        "        def get_tag(tag):\n",
        "            if tag.startswith('J'):\n",
        "                return wordnet.ADJ\n",
        "            elif tag.startswith('V'):\n",
        "                return wordnet.VERB\n",
        "            elif tag.startswith('N'):\n",
        "                return wordnet.NOUN\n",
        "            elif tag.startswith('R'):\n",
        "                return wordnet.ADV\n",
        "            else:\n",
        "                return ''\n",
        "\n",
        "        text_result = []\n",
        "        tokens = word_tokenize(text)  # Generate list of tokens\n",
        "        tagged = pos_tag(tokens)\n",
        "        for t in tagged:\n",
        "            try:\n",
        "                text_result.append(wordnet_lemmatizer.lemmatize(t[0], get_tag(t[1][:2])))\n",
        "            except:\n",
        "                text_result.append(wordnet_lemmatizer.lemmatize(t[0]))\n",
        "        return text_result\n",
        "\n",
        "    if stemmer:\n",
        "        text_result = []\n",
        "        tokens = word_tokenize(text)\n",
        "        snowball_stemmer = SnowballStemmer('english')\n",
        "        for t in tokens:\n",
        "            text_result.append(snowball_stemmer.stem(t))\n",
        "        return text_result"
      ],
      "execution_count": 1,
      "outputs": []
    },
    {
      "cell_type": "code",
      "source": [
        "sample_text = \"Troubling\"\n",
        "sample_text_result = cleanText(sample_text, lemmatize=False, stemmer=True)\n",
        "sample_text_result = \" \".join(str(x) for x in sample_text_result)\n",
        "print(sample_text)\n",
        "print(sample_text_result)\n",
        "sample_text_result = cleanText(sample_text, lemmatize=True, stemmer=False)\n",
        "sample_text_result = \" \".join(str(x) for x in sample_text_result)\n",
        "print(sample_text_result)"
      ],
      "metadata": {
        "colab": {
          "base_uri": "https://localhost:8080/"
        },
        "id": "ZuBxfzbuzrs1",
        "outputId": "df16012c-2406-4357-ee7e-0f9c3ab00283"
      },
      "execution_count": 3,
      "outputs": [
        {
          "output_type": "stream",
          "name": "stdout",
          "text": [
            "Troubling\n",
            "troubl\n",
            "trouble\n"
          ]
        }
      ]
    },
    {
      "cell_type": "markdown",
      "metadata": {
        "id": "QcqQi34UoPvq"
      },
      "source": [
        "## Section 1.2: BAG OF WORDS \n",
        "\n",
        "A bag-of-words model, or BoW for short, is a way of extracting features from text for use in modeling, such as with machine learning algorithms.\n",
        "\n",
        "The approach is very simple and flexible, and can be used in many ways for extracting features from documents.\n",
        "\n",
        "A bag-of-words is a representation of text that describes the occurrence of words within a document. \n",
        "It is called a “bag” of words, because any information about the order or structure of words in the document is discarded. The model is only concerned with whether known words occur in the document, not where in the document."
      ]
    },
    {
      "cell_type": "code",
      "metadata": {
        "id": "3YYSpQzIM05l"
      },
      "source": [
        "# Functions to convert document(s) to a list of words, with the option of removing stopwords. Returns document-term matrix.\n",
        "\n",
        "def createBagOfWords(train, test, remove_stopwords, lemmatize, stemmer):\n",
        "    if remove_stopwords:\n",
        "        vectorizer = CountVectorizer(analyzer='word', input='content', stop_words=stopwords.words('english'))\n",
        "    else:\n",
        "        vectorizer = CountVectorizer(analyzer='word', input='content')\n",
        "\n",
        "    clean_train = []\n",
        "    for paragraph in train:\n",
        "        paragraph_result = cleanText(paragraph, lemmatize, stemmer)\n",
        "        paragraph = \" \".join(str(x) for x in paragraph_result)\n",
        "        clean_train.append(paragraph)\n",
        "\n",
        "    clean_test = []\n",
        "    for paragraph in test:\n",
        "        paragraph_result = cleanText(paragraph, lemmatize, stemmer)\n",
        "        paragraph = \" \".join(str(x) for x in paragraph_result)\n",
        "        clean_test.append(paragraph)\n",
        "\n",
        "    bag_of_words_train = vectorizer.fit_transform(clean_train).toarray()\n",
        "    bag_of_words_test = vectorizer.transform(clean_test).toarray()\n",
        "    return bag_of_words_train, bag_of_words_test\n"
      ],
      "execution_count": 4,
      "outputs": []
    },
    {
      "cell_type": "markdown",
      "metadata": {
        "id": "-v0iCUBqoX82"
      },
      "source": [
        "## Section 1.3: TF-IDF \n",
        "TF-IDF technique is used to find meaning of sentences consisting of words and cancels out the incapabilities of Bag of Words technique which is good for text classification or for helping a machine read words in numbers.\n",
        "\n",
        "The number of times a term occurs in a document is called its Term frequency (TF).\n",
        "\n",
        " Document frequency is the number of documents in which the word is present.  Inverse DF (IDF) is the inverse of the document frequency which measures the informativeness of term *t*. \n",
        "\n",
        "\n"
      ]
    },
    {
      "cell_type": "code",
      "metadata": {
        "id": "L6_-DDMQoXEX"
      },
      "source": [
        "def createTFIDF(train, test, remove_stopwords, lemmatize, stemmer):\n",
        "    if remove_stopwords:\n",
        "        vectorizer = TfidfVectorizer(analyzer='word', input='content', stop_words=stopwords.words('english'))\n",
        "    else:\n",
        "        vectorizer =  TfidfVectorizer(analyzer='word', input='content')\n",
        "\n",
        "    clean_train = []\n",
        "    for paragraph in train:\n",
        "        paragraph_result = cleanText(paragraph, lemmatize, stemmer)\n",
        "        paragraph = \" \".join(str(x) for x in paragraph_result)\n",
        "        clean_train.append(paragraph)\n",
        "\n",
        "    clean_test = []\n",
        "    for paragraph in test:\n",
        "        paragraph_result = cleanText(paragraph, lemmatize, stemmer)\n",
        "        paragraph = \" \".join(str(x) for x in paragraph_result)\n",
        "        clean_test.append(paragraph)\n",
        "\n",
        "    tfidf_train = vectorizer.fit_transform(clean_train).toarray()\n",
        "    tfidf_test = vectorizer.transform(clean_test).toarray()\n",
        "    return tfidf_train, tfidf_test"
      ],
      "execution_count": 5,
      "outputs": []
    },
    {
      "cell_type": "markdown",
      "metadata": {
        "id": "7g0jS45epcC5"
      },
      "source": [
        "# **Section 2: UNDERSTANDING THE DATA : A REVIEWS DATASET**\n",
        "\n",
        "Sentiment analysis is the interpretation and classification of emotions (such as positive, negative and neutral) within text data using text analysis techniques.  \n",
        "Given below is a dataset consisting of reviews along with sentiment class (positive or negative)."
      ]
    },
    {
      "cell_type": "code",
      "metadata": {
        "id": "jU6875-NxrHw",
        "colab": {
          "base_uri": "https://localhost:8080/",
          "height": 74
        },
        "outputId": "11f74eef-1333-4ea1-e2b7-1a376de93fff"
      },
      "source": [
        "# Upload the Reviews CSV file that has been shared with you.\n",
        "# Run this cell, click on the 'Choose files' button and upload the file.\n",
        "from google.colab import files\n",
        "uploaded = files.upload()"
      ],
      "execution_count": 6,
      "outputs": [
        {
          "output_type": "display_data",
          "data": {
            "text/plain": [
              "<IPython.core.display.HTML object>"
            ],
            "text/html": [
              "\n",
              "     <input type=\"file\" id=\"files-847d56ec-2c4c-43f2-bcd5-ad499d1e245e\" name=\"files[]\" multiple disabled\n",
              "        style=\"border:none\" />\n",
              "     <output id=\"result-847d56ec-2c4c-43f2-bcd5-ad499d1e245e\">\n",
              "      Upload widget is only available when the cell has been executed in the\n",
              "      current browser session. Please rerun this cell to enable.\n",
              "      </output>\n",
              "      <script>// Copyright 2017 Google LLC\n",
              "//\n",
              "// Licensed under the Apache License, Version 2.0 (the \"License\");\n",
              "// you may not use this file except in compliance with the License.\n",
              "// You may obtain a copy of the License at\n",
              "//\n",
              "//      http://www.apache.org/licenses/LICENSE-2.0\n",
              "//\n",
              "// Unless required by applicable law or agreed to in writing, software\n",
              "// distributed under the License is distributed on an \"AS IS\" BASIS,\n",
              "// WITHOUT WARRANTIES OR CONDITIONS OF ANY KIND, either express or implied.\n",
              "// See the License for the specific language governing permissions and\n",
              "// limitations under the License.\n",
              "\n",
              "/**\n",
              " * @fileoverview Helpers for google.colab Python module.\n",
              " */\n",
              "(function(scope) {\n",
              "function span(text, styleAttributes = {}) {\n",
              "  const element = document.createElement('span');\n",
              "  element.textContent = text;\n",
              "  for (const key of Object.keys(styleAttributes)) {\n",
              "    element.style[key] = styleAttributes[key];\n",
              "  }\n",
              "  return element;\n",
              "}\n",
              "\n",
              "// Max number of bytes which will be uploaded at a time.\n",
              "const MAX_PAYLOAD_SIZE = 100 * 1024;\n",
              "\n",
              "function _uploadFiles(inputId, outputId) {\n",
              "  const steps = uploadFilesStep(inputId, outputId);\n",
              "  const outputElement = document.getElementById(outputId);\n",
              "  // Cache steps on the outputElement to make it available for the next call\n",
              "  // to uploadFilesContinue from Python.\n",
              "  outputElement.steps = steps;\n",
              "\n",
              "  return _uploadFilesContinue(outputId);\n",
              "}\n",
              "\n",
              "// This is roughly an async generator (not supported in the browser yet),\n",
              "// where there are multiple asynchronous steps and the Python side is going\n",
              "// to poll for completion of each step.\n",
              "// This uses a Promise to block the python side on completion of each step,\n",
              "// then passes the result of the previous step as the input to the next step.\n",
              "function _uploadFilesContinue(outputId) {\n",
              "  const outputElement = document.getElementById(outputId);\n",
              "  const steps = outputElement.steps;\n",
              "\n",
              "  const next = steps.next(outputElement.lastPromiseValue);\n",
              "  return Promise.resolve(next.value.promise).then((value) => {\n",
              "    // Cache the last promise value to make it available to the next\n",
              "    // step of the generator.\n",
              "    outputElement.lastPromiseValue = value;\n",
              "    return next.value.response;\n",
              "  });\n",
              "}\n",
              "\n",
              "/**\n",
              " * Generator function which is called between each async step of the upload\n",
              " * process.\n",
              " * @param {string} inputId Element ID of the input file picker element.\n",
              " * @param {string} outputId Element ID of the output display.\n",
              " * @return {!Iterable<!Object>} Iterable of next steps.\n",
              " */\n",
              "function* uploadFilesStep(inputId, outputId) {\n",
              "  const inputElement = document.getElementById(inputId);\n",
              "  inputElement.disabled = false;\n",
              "\n",
              "  const outputElement = document.getElementById(outputId);\n",
              "  outputElement.innerHTML = '';\n",
              "\n",
              "  const pickedPromise = new Promise((resolve) => {\n",
              "    inputElement.addEventListener('change', (e) => {\n",
              "      resolve(e.target.files);\n",
              "    });\n",
              "  });\n",
              "\n",
              "  const cancel = document.createElement('button');\n",
              "  inputElement.parentElement.appendChild(cancel);\n",
              "  cancel.textContent = 'Cancel upload';\n",
              "  const cancelPromise = new Promise((resolve) => {\n",
              "    cancel.onclick = () => {\n",
              "      resolve(null);\n",
              "    };\n",
              "  });\n",
              "\n",
              "  // Wait for the user to pick the files.\n",
              "  const files = yield {\n",
              "    promise: Promise.race([pickedPromise, cancelPromise]),\n",
              "    response: {\n",
              "      action: 'starting',\n",
              "    }\n",
              "  };\n",
              "\n",
              "  cancel.remove();\n",
              "\n",
              "  // Disable the input element since further picks are not allowed.\n",
              "  inputElement.disabled = true;\n",
              "\n",
              "  if (!files) {\n",
              "    return {\n",
              "      response: {\n",
              "        action: 'complete',\n",
              "      }\n",
              "    };\n",
              "  }\n",
              "\n",
              "  for (const file of files) {\n",
              "    const li = document.createElement('li');\n",
              "    li.append(span(file.name, {fontWeight: 'bold'}));\n",
              "    li.append(span(\n",
              "        `(${file.type || 'n/a'}) - ${file.size} bytes, ` +\n",
              "        `last modified: ${\n",
              "            file.lastModifiedDate ? file.lastModifiedDate.toLocaleDateString() :\n",
              "                                    'n/a'} - `));\n",
              "    const percent = span('0% done');\n",
              "    li.appendChild(percent);\n",
              "\n",
              "    outputElement.appendChild(li);\n",
              "\n",
              "    const fileDataPromise = new Promise((resolve) => {\n",
              "      const reader = new FileReader();\n",
              "      reader.onload = (e) => {\n",
              "        resolve(e.target.result);\n",
              "      };\n",
              "      reader.readAsArrayBuffer(file);\n",
              "    });\n",
              "    // Wait for the data to be ready.\n",
              "    let fileData = yield {\n",
              "      promise: fileDataPromise,\n",
              "      response: {\n",
              "        action: 'continue',\n",
              "      }\n",
              "    };\n",
              "\n",
              "    // Use a chunked sending to avoid message size limits. See b/62115660.\n",
              "    let position = 0;\n",
              "    do {\n",
              "      const length = Math.min(fileData.byteLength - position, MAX_PAYLOAD_SIZE);\n",
              "      const chunk = new Uint8Array(fileData, position, length);\n",
              "      position += length;\n",
              "\n",
              "      const base64 = btoa(String.fromCharCode.apply(null, chunk));\n",
              "      yield {\n",
              "        response: {\n",
              "          action: 'append',\n",
              "          file: file.name,\n",
              "          data: base64,\n",
              "        },\n",
              "      };\n",
              "\n",
              "      let percentDone = fileData.byteLength === 0 ?\n",
              "          100 :\n",
              "          Math.round((position / fileData.byteLength) * 100);\n",
              "      percent.textContent = `${percentDone}% done`;\n",
              "\n",
              "    } while (position < fileData.byteLength);\n",
              "  }\n",
              "\n",
              "  // All done.\n",
              "  yield {\n",
              "    response: {\n",
              "      action: 'complete',\n",
              "    }\n",
              "  };\n",
              "}\n",
              "\n",
              "scope.google = scope.google || {};\n",
              "scope.google.colab = scope.google.colab || {};\n",
              "scope.google.colab._files = {\n",
              "  _uploadFiles,\n",
              "  _uploadFilesContinue,\n",
              "};\n",
              "})(self);\n",
              "</script> "
            ]
          },
          "metadata": {}
        },
        {
          "output_type": "stream",
          "name": "stdout",
          "text": [
            "Saving reviews.csv to reviews.csv\n"
          ]
        }
      ]
    },
    {
      "cell_type": "code",
      "source": [
        "import pandas as pd\n",
        "df = pd.read_csv('reviews.csv')"
      ],
      "metadata": {
        "id": "HILJMpa_y26e"
      },
      "execution_count": 7,
      "outputs": []
    },
    {
      "cell_type": "code",
      "source": [
        "df = df.dropna()"
      ],
      "metadata": {
        "id": "WXD0iAR5k62v"
      },
      "execution_count": 8,
      "outputs": []
    },
    {
      "cell_type": "code",
      "source": [
        "df.to_csv('reviews.csv', index=False)"
      ],
      "metadata": {
        "id": "7j9rNGkQpn7y"
      },
      "execution_count": 9,
      "outputs": []
    },
    {
      "cell_type": "markdown",
      "metadata": {
        "id": "-QXo11Bxvytu"
      },
      "source": [
        "# **Section 3: KNN MODEL**\n",
        "\n",
        "Given below are two KNN models; in the first case we are using Bag-of-Words and in the second case we are using TF-IDF.\n",
        "Note the different metrics and parameters used in each."
      ]
    },
    {
      "cell_type": "code",
      "metadata": {
        "id": "R5yZXboZ92Z4"
      },
      "source": [
        "from sklearn import metrics, neighbors\n",
        "from sklearn.model_selection import train_test_split, cross_val_score, cross_val_predict\n",
        "\n",
        "## TASK - 1: Tweak the models below and see results with different parameters and distance metrics.\n",
        "\n",
        "def bow_knn():\n",
        "    \"\"\"Method for determining nearest neighbors using bag-of-words and K-Nearest Neighbor algorithm\"\"\"\n",
        "\n",
        "    training_data = pd.read_csv('reviews.csv')\n",
        "    X_train, X_test, y_train, y_test = train_test_split(training_data[\"sentence\"], training_data[\"sentiment\"], test_size=0.2, random_state=5)\n",
        "    X_train, X_test = createBagOfWords(X_train, X_test, remove_stopwords=True, lemmatize=True, stemmer=False)\n",
        "    # print(X_train)\n",
        "    knn = neighbors.KNeighborsClassifier(n_neighbors=3, weights='distance', algorithm='auto', leaf_size=30, p=2, metric='cosine', metric_params=None, n_jobs=1)\n",
        "\n",
        "    knn.fit(X_train, y_train)\n",
        "    predicted = knn.predict(X_test)\n",
        "    acc = metrics.accuracy_score(y_test, predicted)\n",
        "    print('KNN with BOW accuracy = ' + str(acc * 100) + '%')\n",
        "\n",
        "    scores = cross_val_score(knn, X_train, y_train, cv=3)\n",
        "    print(\"Cross Validation Accuracy: %0.2f\" % (scores.mean()))\n",
        "    print(scores)\n",
        "    print('\\n')\n",
        "    return predicted, y_test\n",
        "\n",
        "\n",
        "def tfidf_knn():\n",
        "    \"\"\"Method for determining nearest neighbors using tf-idf and K-Nearest Neighbor algorithm\"\"\"\n",
        "\n",
        "    training_data = pd.read_csv('reviews.csv')\n",
        "    X_train, X_test, y_train, y_test = train_test_split(training_data[\"sentence\"], training_data[\"sentiment\"],\n",
        "                                                        test_size=0.2, random_state=5)\n",
        "    X_train, X_test = createTFIDF(X_train, X_test, remove_stopwords=True, lemmatize=True, stemmer=False)\n",
        "    # print(X_train)\n",
        "    knn = neighbors.KNeighborsClassifier(n_neighbors=3, weights='distance', algorithm='auto', leaf_size=45, p=2,\n",
        "                                         metric='cosine', metric_params=None, n_jobs=1)\n",
        "\n",
        "    knn.fit(X_train, y_train)\n",
        "    predicted = knn.predict(X_test)\n",
        "    acc = metrics.accuracy_score(y_test, predicted)\n",
        "    print('KNN with TFIDF accuracy = ' + str(acc * 100) + '%')\n",
        "\n",
        "    scores = cross_val_score(knn, X_train, y_train, cv=3)\n",
        "    print(\"Cross Validation Accuracy: %0.2f\" % (scores.mean()))\n",
        "    print(scores)\n",
        "    return predicted, y_test"
      ],
      "execution_count": 17,
      "outputs": []
    },
    {
      "cell_type": "markdown",
      "source": [
        "Note: Cross-validation will be discussed in detail in the upcoming lab session."
      ],
      "metadata": {
        "id": "uPuI3wrL-8ZJ"
      }
    },
    {
      "cell_type": "code",
      "metadata": {
        "id": "Xzno1rRNHoFT",
        "colab": {
          "base_uri": "https://localhost:8080/"
        },
        "outputId": "5f3e7e67-bc13-4535-865b-d94939af22fa"
      },
      "source": [
        "## KNN accuracy after using BoW\n",
        "predicted, y_test = bow_knn()"
      ],
      "execution_count": 14,
      "outputs": [
        {
          "output_type": "stream",
          "name": "stdout",
          "text": [
            "KNN with BOW accuracy = 70.15706806282722%\n",
            "Cross Validation Accuracy: 0.69\n",
            "[0.70588235 0.6627451  0.70472441]\n",
            "\n",
            "\n"
          ]
        },
        {
          "output_type": "stream",
          "name": "stderr",
          "text": [
            "/usr/local/lib/python3.8/dist-packages/sklearn/model_selection/_split.py:676: UserWarning: The least populated class in y has only 1 members, which is less than n_splits=3.\n",
            "  warnings.warn(\n"
          ]
        }
      ]
    },
    {
      "cell_type": "code",
      "metadata": {
        "id": "FI5NMP8L-4eW",
        "colab": {
          "base_uri": "https://localhost:8080/"
        },
        "outputId": "57eb1757-6ee2-4eef-b61d-25fd7650b221"
      },
      "source": [
        "## KNN accuracy after using TFIDF\n",
        "predicted, y_test = tfidf_knn()"
      ],
      "execution_count": 18,
      "outputs": [
        {
          "output_type": "stream",
          "name": "stdout",
          "text": [
            "KNN with TFIDF accuracy = 70.68062827225131%\n",
            "Cross Validation Accuracy: 0.73\n",
            "[0.72941176 0.76470588 0.69685039]\n"
          ]
        },
        {
          "output_type": "stream",
          "name": "stderr",
          "text": [
            "/usr/local/lib/python3.8/dist-packages/sklearn/model_selection/_split.py:676: UserWarning: The least populated class in y has only 1 members, which is less than n_splits=3.\n",
            "  warnings.warn(\n"
          ]
        }
      ]
    },
    {
      "cell_type": "markdown",
      "metadata": {
        "id": "Vm2vYDVfa5AP"
      },
      "source": [
        "# Section 4: SPAM TEXT DATASET\n",
        "Now let's use what we've learnt to classify texts as spam or not spam."
      ]
    },
    {
      "cell_type": "code",
      "metadata": {
        "colab": {
          "base_uri": "https://localhost:8080/",
          "height": 74
        },
        "id": "c1GZgvXCsKX1",
        "outputId": "58b3dea0-7cef-4244-a64f-437a849a9b3d"
      },
      "source": [
        "# Upload the spam text data CSV file that has been shared with you. You can also download the file from https://www.kaggle.com/datasets/uciml/sms-spam-collection-dataset\n",
        "# Run this cell, click on the 'Choose files' button and upload the file.\n",
        "from google.colab import files\n",
        "uploaded = files.upload()"
      ],
      "execution_count": 19,
      "outputs": [
        {
          "output_type": "display_data",
          "data": {
            "text/plain": [
              "<IPython.core.display.HTML object>"
            ],
            "text/html": [
              "\n",
              "     <input type=\"file\" id=\"files-00b21e15-9766-4d16-96fb-403ee4052b62\" name=\"files[]\" multiple disabled\n",
              "        style=\"border:none\" />\n",
              "     <output id=\"result-00b21e15-9766-4d16-96fb-403ee4052b62\">\n",
              "      Upload widget is only available when the cell has been executed in the\n",
              "      current browser session. Please rerun this cell to enable.\n",
              "      </output>\n",
              "      <script>// Copyright 2017 Google LLC\n",
              "//\n",
              "// Licensed under the Apache License, Version 2.0 (the \"License\");\n",
              "// you may not use this file except in compliance with the License.\n",
              "// You may obtain a copy of the License at\n",
              "//\n",
              "//      http://www.apache.org/licenses/LICENSE-2.0\n",
              "//\n",
              "// Unless required by applicable law or agreed to in writing, software\n",
              "// distributed under the License is distributed on an \"AS IS\" BASIS,\n",
              "// WITHOUT WARRANTIES OR CONDITIONS OF ANY KIND, either express or implied.\n",
              "// See the License for the specific language governing permissions and\n",
              "// limitations under the License.\n",
              "\n",
              "/**\n",
              " * @fileoverview Helpers for google.colab Python module.\n",
              " */\n",
              "(function(scope) {\n",
              "function span(text, styleAttributes = {}) {\n",
              "  const element = document.createElement('span');\n",
              "  element.textContent = text;\n",
              "  for (const key of Object.keys(styleAttributes)) {\n",
              "    element.style[key] = styleAttributes[key];\n",
              "  }\n",
              "  return element;\n",
              "}\n",
              "\n",
              "// Max number of bytes which will be uploaded at a time.\n",
              "const MAX_PAYLOAD_SIZE = 100 * 1024;\n",
              "\n",
              "function _uploadFiles(inputId, outputId) {\n",
              "  const steps = uploadFilesStep(inputId, outputId);\n",
              "  const outputElement = document.getElementById(outputId);\n",
              "  // Cache steps on the outputElement to make it available for the next call\n",
              "  // to uploadFilesContinue from Python.\n",
              "  outputElement.steps = steps;\n",
              "\n",
              "  return _uploadFilesContinue(outputId);\n",
              "}\n",
              "\n",
              "// This is roughly an async generator (not supported in the browser yet),\n",
              "// where there are multiple asynchronous steps and the Python side is going\n",
              "// to poll for completion of each step.\n",
              "// This uses a Promise to block the python side on completion of each step,\n",
              "// then passes the result of the previous step as the input to the next step.\n",
              "function _uploadFilesContinue(outputId) {\n",
              "  const outputElement = document.getElementById(outputId);\n",
              "  const steps = outputElement.steps;\n",
              "\n",
              "  const next = steps.next(outputElement.lastPromiseValue);\n",
              "  return Promise.resolve(next.value.promise).then((value) => {\n",
              "    // Cache the last promise value to make it available to the next\n",
              "    // step of the generator.\n",
              "    outputElement.lastPromiseValue = value;\n",
              "    return next.value.response;\n",
              "  });\n",
              "}\n",
              "\n",
              "/**\n",
              " * Generator function which is called between each async step of the upload\n",
              " * process.\n",
              " * @param {string} inputId Element ID of the input file picker element.\n",
              " * @param {string} outputId Element ID of the output display.\n",
              " * @return {!Iterable<!Object>} Iterable of next steps.\n",
              " */\n",
              "function* uploadFilesStep(inputId, outputId) {\n",
              "  const inputElement = document.getElementById(inputId);\n",
              "  inputElement.disabled = false;\n",
              "\n",
              "  const outputElement = document.getElementById(outputId);\n",
              "  outputElement.innerHTML = '';\n",
              "\n",
              "  const pickedPromise = new Promise((resolve) => {\n",
              "    inputElement.addEventListener('change', (e) => {\n",
              "      resolve(e.target.files);\n",
              "    });\n",
              "  });\n",
              "\n",
              "  const cancel = document.createElement('button');\n",
              "  inputElement.parentElement.appendChild(cancel);\n",
              "  cancel.textContent = 'Cancel upload';\n",
              "  const cancelPromise = new Promise((resolve) => {\n",
              "    cancel.onclick = () => {\n",
              "      resolve(null);\n",
              "    };\n",
              "  });\n",
              "\n",
              "  // Wait for the user to pick the files.\n",
              "  const files = yield {\n",
              "    promise: Promise.race([pickedPromise, cancelPromise]),\n",
              "    response: {\n",
              "      action: 'starting',\n",
              "    }\n",
              "  };\n",
              "\n",
              "  cancel.remove();\n",
              "\n",
              "  // Disable the input element since further picks are not allowed.\n",
              "  inputElement.disabled = true;\n",
              "\n",
              "  if (!files) {\n",
              "    return {\n",
              "      response: {\n",
              "        action: 'complete',\n",
              "      }\n",
              "    };\n",
              "  }\n",
              "\n",
              "  for (const file of files) {\n",
              "    const li = document.createElement('li');\n",
              "    li.append(span(file.name, {fontWeight: 'bold'}));\n",
              "    li.append(span(\n",
              "        `(${file.type || 'n/a'}) - ${file.size} bytes, ` +\n",
              "        `last modified: ${\n",
              "            file.lastModifiedDate ? file.lastModifiedDate.toLocaleDateString() :\n",
              "                                    'n/a'} - `));\n",
              "    const percent = span('0% done');\n",
              "    li.appendChild(percent);\n",
              "\n",
              "    outputElement.appendChild(li);\n",
              "\n",
              "    const fileDataPromise = new Promise((resolve) => {\n",
              "      const reader = new FileReader();\n",
              "      reader.onload = (e) => {\n",
              "        resolve(e.target.result);\n",
              "      };\n",
              "      reader.readAsArrayBuffer(file);\n",
              "    });\n",
              "    // Wait for the data to be ready.\n",
              "    let fileData = yield {\n",
              "      promise: fileDataPromise,\n",
              "      response: {\n",
              "        action: 'continue',\n",
              "      }\n",
              "    };\n",
              "\n",
              "    // Use a chunked sending to avoid message size limits. See b/62115660.\n",
              "    let position = 0;\n",
              "    do {\n",
              "      const length = Math.min(fileData.byteLength - position, MAX_PAYLOAD_SIZE);\n",
              "      const chunk = new Uint8Array(fileData, position, length);\n",
              "      position += length;\n",
              "\n",
              "      const base64 = btoa(String.fromCharCode.apply(null, chunk));\n",
              "      yield {\n",
              "        response: {\n",
              "          action: 'append',\n",
              "          file: file.name,\n",
              "          data: base64,\n",
              "        },\n",
              "      };\n",
              "\n",
              "      let percentDone = fileData.byteLength === 0 ?\n",
              "          100 :\n",
              "          Math.round((position / fileData.byteLength) * 100);\n",
              "      percent.textContent = `${percentDone}% done`;\n",
              "\n",
              "    } while (position < fileData.byteLength);\n",
              "  }\n",
              "\n",
              "  // All done.\n",
              "  yield {\n",
              "    response: {\n",
              "      action: 'complete',\n",
              "    }\n",
              "  };\n",
              "}\n",
              "\n",
              "scope.google = scope.google || {};\n",
              "scope.google.colab = scope.google.colab || {};\n",
              "scope.google.colab._files = {\n",
              "  _uploadFiles,\n",
              "  _uploadFilesContinue,\n",
              "};\n",
              "})(self);\n",
              "</script> "
            ]
          },
          "metadata": {}
        },
        {
          "output_type": "stream",
          "name": "stdout",
          "text": [
            "Saving spam.csv to spam.csv\n"
          ]
        }
      ]
    },
    {
      "cell_type": "code",
      "metadata": {
        "colab": {
          "base_uri": "https://localhost:8080/",
          "height": 493
        },
        "id": "qRiS7dT7piTE",
        "outputId": "cbd047b2-89e2-4dee-f230-5aefe2f0eb07"
      },
      "source": [
        "import pandas as pd\n",
        "df = pd.read_csv('spam.csv', error_bad_lines=False)\n",
        "df"
      ],
      "execution_count": 20,
      "outputs": [
        {
          "output_type": "stream",
          "name": "stderr",
          "text": [
            "/usr/local/lib/python3.8/dist-packages/IPython/core/interactiveshell.py:3326: FutureWarning: The error_bad_lines argument has been deprecated and will be removed in a future version.\n",
            "\n",
            "\n",
            "  exec(code_obj, self.user_global_ns, self.user_ns)\n"
          ]
        },
        {
          "output_type": "execute_result",
          "data": {
            "text/plain": [
              "     Category                                            Message\n",
              "0         ham  Go until jurong point, crazy.. Available only ...\n",
              "1         ham                      Ok lar... Joking wif u oni...\n",
              "2        spam  Free entry in 2 a wkly comp to win FA Cup fina...\n",
              "3         ham  U dun say so early hor... U c already then say...\n",
              "4         ham  Nah I don't think he goes to usf, he lives aro...\n",
              "...       ...                                                ...\n",
              "5567     spam  This is the 2nd time we have tried 2 contact u...\n",
              "5568      ham              Will Ã¼ b going to esplanade fr home?\n",
              "5569      ham  Pity, * was in mood for that. So...any other s...\n",
              "5570      ham  The guy did some bitching but I acted like i'd...\n",
              "5571      ham                         Rofl. Its true to its name\n",
              "\n",
              "[5572 rows x 2 columns]"
            ],
            "text/html": [
              "\n",
              "  <div id=\"df-300e0c11-0b35-4f4d-9d56-05d5556c4deb\">\n",
              "    <div class=\"colab-df-container\">\n",
              "      <div>\n",
              "<style scoped>\n",
              "    .dataframe tbody tr th:only-of-type {\n",
              "        vertical-align: middle;\n",
              "    }\n",
              "\n",
              "    .dataframe tbody tr th {\n",
              "        vertical-align: top;\n",
              "    }\n",
              "\n",
              "    .dataframe thead th {\n",
              "        text-align: right;\n",
              "    }\n",
              "</style>\n",
              "<table border=\"1\" class=\"dataframe\">\n",
              "  <thead>\n",
              "    <tr style=\"text-align: right;\">\n",
              "      <th></th>\n",
              "      <th>Category</th>\n",
              "      <th>Message</th>\n",
              "    </tr>\n",
              "  </thead>\n",
              "  <tbody>\n",
              "    <tr>\n",
              "      <th>0</th>\n",
              "      <td>ham</td>\n",
              "      <td>Go until jurong point, crazy.. Available only ...</td>\n",
              "    </tr>\n",
              "    <tr>\n",
              "      <th>1</th>\n",
              "      <td>ham</td>\n",
              "      <td>Ok lar... Joking wif u oni...</td>\n",
              "    </tr>\n",
              "    <tr>\n",
              "      <th>2</th>\n",
              "      <td>spam</td>\n",
              "      <td>Free entry in 2 a wkly comp to win FA Cup fina...</td>\n",
              "    </tr>\n",
              "    <tr>\n",
              "      <th>3</th>\n",
              "      <td>ham</td>\n",
              "      <td>U dun say so early hor... U c already then say...</td>\n",
              "    </tr>\n",
              "    <tr>\n",
              "      <th>4</th>\n",
              "      <td>ham</td>\n",
              "      <td>Nah I don't think he goes to usf, he lives aro...</td>\n",
              "    </tr>\n",
              "    <tr>\n",
              "      <th>...</th>\n",
              "      <td>...</td>\n",
              "      <td>...</td>\n",
              "    </tr>\n",
              "    <tr>\n",
              "      <th>5567</th>\n",
              "      <td>spam</td>\n",
              "      <td>This is the 2nd time we have tried 2 contact u...</td>\n",
              "    </tr>\n",
              "    <tr>\n",
              "      <th>5568</th>\n",
              "      <td>ham</td>\n",
              "      <td>Will Ã¼ b going to esplanade fr home?</td>\n",
              "    </tr>\n",
              "    <tr>\n",
              "      <th>5569</th>\n",
              "      <td>ham</td>\n",
              "      <td>Pity, * was in mood for that. So...any other s...</td>\n",
              "    </tr>\n",
              "    <tr>\n",
              "      <th>5570</th>\n",
              "      <td>ham</td>\n",
              "      <td>The guy did some bitching but I acted like i'd...</td>\n",
              "    </tr>\n",
              "    <tr>\n",
              "      <th>5571</th>\n",
              "      <td>ham</td>\n",
              "      <td>Rofl. Its true to its name</td>\n",
              "    </tr>\n",
              "  </tbody>\n",
              "</table>\n",
              "<p>5572 rows × 2 columns</p>\n",
              "</div>\n",
              "      <button class=\"colab-df-convert\" onclick=\"convertToInteractive('df-300e0c11-0b35-4f4d-9d56-05d5556c4deb')\"\n",
              "              title=\"Convert this dataframe to an interactive table.\"\n",
              "              style=\"display:none;\">\n",
              "        \n",
              "  <svg xmlns=\"http://www.w3.org/2000/svg\" height=\"24px\"viewBox=\"0 0 24 24\"\n",
              "       width=\"24px\">\n",
              "    <path d=\"M0 0h24v24H0V0z\" fill=\"none\"/>\n",
              "    <path d=\"M18.56 5.44l.94 2.06.94-2.06 2.06-.94-2.06-.94-.94-2.06-.94 2.06-2.06.94zm-11 1L8.5 8.5l.94-2.06 2.06-.94-2.06-.94L8.5 2.5l-.94 2.06-2.06.94zm10 10l.94 2.06.94-2.06 2.06-.94-2.06-.94-.94-2.06-.94 2.06-2.06.94z\"/><path d=\"M17.41 7.96l-1.37-1.37c-.4-.4-.92-.59-1.43-.59-.52 0-1.04.2-1.43.59L10.3 9.45l-7.72 7.72c-.78.78-.78 2.05 0 2.83L4 21.41c.39.39.9.59 1.41.59.51 0 1.02-.2 1.41-.59l7.78-7.78 2.81-2.81c.8-.78.8-2.07 0-2.86zM5.41 20L4 18.59l7.72-7.72 1.47 1.35L5.41 20z\"/>\n",
              "  </svg>\n",
              "      </button>\n",
              "      \n",
              "  <style>\n",
              "    .colab-df-container {\n",
              "      display:flex;\n",
              "      flex-wrap:wrap;\n",
              "      gap: 12px;\n",
              "    }\n",
              "\n",
              "    .colab-df-convert {\n",
              "      background-color: #E8F0FE;\n",
              "      border: none;\n",
              "      border-radius: 50%;\n",
              "      cursor: pointer;\n",
              "      display: none;\n",
              "      fill: #1967D2;\n",
              "      height: 32px;\n",
              "      padding: 0 0 0 0;\n",
              "      width: 32px;\n",
              "    }\n",
              "\n",
              "    .colab-df-convert:hover {\n",
              "      background-color: #E2EBFA;\n",
              "      box-shadow: 0px 1px 2px rgba(60, 64, 67, 0.3), 0px 1px 3px 1px rgba(60, 64, 67, 0.15);\n",
              "      fill: #174EA6;\n",
              "    }\n",
              "\n",
              "    [theme=dark] .colab-df-convert {\n",
              "      background-color: #3B4455;\n",
              "      fill: #D2E3FC;\n",
              "    }\n",
              "\n",
              "    [theme=dark] .colab-df-convert:hover {\n",
              "      background-color: #434B5C;\n",
              "      box-shadow: 0px 1px 3px 1px rgba(0, 0, 0, 0.15);\n",
              "      filter: drop-shadow(0px 1px 2px rgba(0, 0, 0, 0.3));\n",
              "      fill: #FFFFFF;\n",
              "    }\n",
              "  </style>\n",
              "\n",
              "      <script>\n",
              "        const buttonEl =\n",
              "          document.querySelector('#df-300e0c11-0b35-4f4d-9d56-05d5556c4deb button.colab-df-convert');\n",
              "        buttonEl.style.display =\n",
              "          google.colab.kernel.accessAllowed ? 'block' : 'none';\n",
              "\n",
              "        async function convertToInteractive(key) {\n",
              "          const element = document.querySelector('#df-300e0c11-0b35-4f4d-9d56-05d5556c4deb');\n",
              "          const dataTable =\n",
              "            await google.colab.kernel.invokeFunction('convertToInteractive',\n",
              "                                                     [key], {});\n",
              "          if (!dataTable) return;\n",
              "\n",
              "          const docLinkHtml = 'Like what you see? Visit the ' +\n",
              "            '<a target=\"_blank\" href=https://colab.research.google.com/notebooks/data_table.ipynb>data table notebook</a>'\n",
              "            + ' to learn more about interactive tables.';\n",
              "          element.innerHTML = '';\n",
              "          dataTable['output_type'] = 'display_data';\n",
              "          await google.colab.output.renderOutput(dataTable, element);\n",
              "          const docLink = document.createElement('div');\n",
              "          docLink.innerHTML = docLinkHtml;\n",
              "          element.appendChild(docLink);\n",
              "        }\n",
              "      </script>\n",
              "    </div>\n",
              "  </div>\n",
              "  "
            ]
          },
          "metadata": {},
          "execution_count": 20
        }
      ]
    },
    {
      "cell_type": "code",
      "metadata": {
        "id": "OsvBm4luNCME"
      },
      "source": [
        "df['Category'] = df['Category'].map({'ham': 0, 'spam': 1})"
      ],
      "execution_count": 21,
      "outputs": []
    },
    {
      "cell_type": "code",
      "metadata": {
        "colab": {
          "base_uri": "https://localhost:8080/",
          "height": 206
        },
        "id": "KiEHuMypWyb6",
        "outputId": "145b1ca0-1185-4414-f813-00472870b62f"
      },
      "source": [
        "df.head(5)"
      ],
      "execution_count": 22,
      "outputs": [
        {
          "output_type": "execute_result",
          "data": {
            "text/plain": [
              "   Category                                            Message\n",
              "0         0  Go until jurong point, crazy.. Available only ...\n",
              "1         0                      Ok lar... Joking wif u oni...\n",
              "2         1  Free entry in 2 a wkly comp to win FA Cup fina...\n",
              "3         0  U dun say so early hor... U c already then say...\n",
              "4         0  Nah I don't think he goes to usf, he lives aro..."
            ],
            "text/html": [
              "\n",
              "  <div id=\"df-97c59617-cfbe-4422-9fdf-4d0dce2b3edd\">\n",
              "    <div class=\"colab-df-container\">\n",
              "      <div>\n",
              "<style scoped>\n",
              "    .dataframe tbody tr th:only-of-type {\n",
              "        vertical-align: middle;\n",
              "    }\n",
              "\n",
              "    .dataframe tbody tr th {\n",
              "        vertical-align: top;\n",
              "    }\n",
              "\n",
              "    .dataframe thead th {\n",
              "        text-align: right;\n",
              "    }\n",
              "</style>\n",
              "<table border=\"1\" class=\"dataframe\">\n",
              "  <thead>\n",
              "    <tr style=\"text-align: right;\">\n",
              "      <th></th>\n",
              "      <th>Category</th>\n",
              "      <th>Message</th>\n",
              "    </tr>\n",
              "  </thead>\n",
              "  <tbody>\n",
              "    <tr>\n",
              "      <th>0</th>\n",
              "      <td>0</td>\n",
              "      <td>Go until jurong point, crazy.. Available only ...</td>\n",
              "    </tr>\n",
              "    <tr>\n",
              "      <th>1</th>\n",
              "      <td>0</td>\n",
              "      <td>Ok lar... Joking wif u oni...</td>\n",
              "    </tr>\n",
              "    <tr>\n",
              "      <th>2</th>\n",
              "      <td>1</td>\n",
              "      <td>Free entry in 2 a wkly comp to win FA Cup fina...</td>\n",
              "    </tr>\n",
              "    <tr>\n",
              "      <th>3</th>\n",
              "      <td>0</td>\n",
              "      <td>U dun say so early hor... U c already then say...</td>\n",
              "    </tr>\n",
              "    <tr>\n",
              "      <th>4</th>\n",
              "      <td>0</td>\n",
              "      <td>Nah I don't think he goes to usf, he lives aro...</td>\n",
              "    </tr>\n",
              "  </tbody>\n",
              "</table>\n",
              "</div>\n",
              "      <button class=\"colab-df-convert\" onclick=\"convertToInteractive('df-97c59617-cfbe-4422-9fdf-4d0dce2b3edd')\"\n",
              "              title=\"Convert this dataframe to an interactive table.\"\n",
              "              style=\"display:none;\">\n",
              "        \n",
              "  <svg xmlns=\"http://www.w3.org/2000/svg\" height=\"24px\"viewBox=\"0 0 24 24\"\n",
              "       width=\"24px\">\n",
              "    <path d=\"M0 0h24v24H0V0z\" fill=\"none\"/>\n",
              "    <path d=\"M18.56 5.44l.94 2.06.94-2.06 2.06-.94-2.06-.94-.94-2.06-.94 2.06-2.06.94zm-11 1L8.5 8.5l.94-2.06 2.06-.94-2.06-.94L8.5 2.5l-.94 2.06-2.06.94zm10 10l.94 2.06.94-2.06 2.06-.94-2.06-.94-.94-2.06-.94 2.06-2.06.94z\"/><path d=\"M17.41 7.96l-1.37-1.37c-.4-.4-.92-.59-1.43-.59-.52 0-1.04.2-1.43.59L10.3 9.45l-7.72 7.72c-.78.78-.78 2.05 0 2.83L4 21.41c.39.39.9.59 1.41.59.51 0 1.02-.2 1.41-.59l7.78-7.78 2.81-2.81c.8-.78.8-2.07 0-2.86zM5.41 20L4 18.59l7.72-7.72 1.47 1.35L5.41 20z\"/>\n",
              "  </svg>\n",
              "      </button>\n",
              "      \n",
              "  <style>\n",
              "    .colab-df-container {\n",
              "      display:flex;\n",
              "      flex-wrap:wrap;\n",
              "      gap: 12px;\n",
              "    }\n",
              "\n",
              "    .colab-df-convert {\n",
              "      background-color: #E8F0FE;\n",
              "      border: none;\n",
              "      border-radius: 50%;\n",
              "      cursor: pointer;\n",
              "      display: none;\n",
              "      fill: #1967D2;\n",
              "      height: 32px;\n",
              "      padding: 0 0 0 0;\n",
              "      width: 32px;\n",
              "    }\n",
              "\n",
              "    .colab-df-convert:hover {\n",
              "      background-color: #E2EBFA;\n",
              "      box-shadow: 0px 1px 2px rgba(60, 64, 67, 0.3), 0px 1px 3px 1px rgba(60, 64, 67, 0.15);\n",
              "      fill: #174EA6;\n",
              "    }\n",
              "\n",
              "    [theme=dark] .colab-df-convert {\n",
              "      background-color: #3B4455;\n",
              "      fill: #D2E3FC;\n",
              "    }\n",
              "\n",
              "    [theme=dark] .colab-df-convert:hover {\n",
              "      background-color: #434B5C;\n",
              "      box-shadow: 0px 1px 3px 1px rgba(0, 0, 0, 0.15);\n",
              "      filter: drop-shadow(0px 1px 2px rgba(0, 0, 0, 0.3));\n",
              "      fill: #FFFFFF;\n",
              "    }\n",
              "  </style>\n",
              "\n",
              "      <script>\n",
              "        const buttonEl =\n",
              "          document.querySelector('#df-97c59617-cfbe-4422-9fdf-4d0dce2b3edd button.colab-df-convert');\n",
              "        buttonEl.style.display =\n",
              "          google.colab.kernel.accessAllowed ? 'block' : 'none';\n",
              "\n",
              "        async function convertToInteractive(key) {\n",
              "          const element = document.querySelector('#df-97c59617-cfbe-4422-9fdf-4d0dce2b3edd');\n",
              "          const dataTable =\n",
              "            await google.colab.kernel.invokeFunction('convertToInteractive',\n",
              "                                                     [key], {});\n",
              "          if (!dataTable) return;\n",
              "\n",
              "          const docLinkHtml = 'Like what you see? Visit the ' +\n",
              "            '<a target=\"_blank\" href=https://colab.research.google.com/notebooks/data_table.ipynb>data table notebook</a>'\n",
              "            + ' to learn more about interactive tables.';\n",
              "          element.innerHTML = '';\n",
              "          dataTable['output_type'] = 'display_data';\n",
              "          await google.colab.output.renderOutput(dataTable, element);\n",
              "          const docLink = document.createElement('div');\n",
              "          docLink.innerHTML = docLinkHtml;\n",
              "          element.appendChild(docLink);\n",
              "        }\n",
              "      </script>\n",
              "    </div>\n",
              "  </div>\n",
              "  "
            ]
          },
          "metadata": {},
          "execution_count": 22
        }
      ]
    },
    {
      "cell_type": "code",
      "source": [
        "len(df)"
      ],
      "metadata": {
        "colab": {
          "base_uri": "https://localhost:8080/"
        },
        "id": "WRJU9rFy1XQR",
        "outputId": "fdd67e47-1de8-41ce-d801-1553e06621fd"
      },
      "execution_count": 23,
      "outputs": [
        {
          "output_type": "execute_result",
          "data": {
            "text/plain": [
              "5572"
            ]
          },
          "metadata": {},
          "execution_count": 23
        }
      ]
    },
    {
      "cell_type": "code",
      "metadata": {
        "id": "Wnv0v4T6sqJQ"
      },
      "source": [
        "from sklearn import metrics, neighbors\n",
        "from sklearn.model_selection import train_test_split, cross_val_score, cross_val_predict\n",
        "\n",
        "## TASK - 2: Tweak the models below and see results with different parameters and distance metrics.\n",
        "\n",
        "def bow_knn():\n",
        "    \"\"\"Method for determining nearest neighbors using bag-of-words and K-Nearest Neighbor algorithm\"\"\"\n",
        "\n",
        "    training_data = pd.read_csv('spam.csv')\n",
        "    training_data['Category'] = training_data['Category'].map({'ham': 0, 'spam': 1})\n",
        "    X_train, X_test, y_train, y_test = train_test_split(training_data[\"Message\"], training_data[\"Category\"], test_size=0.2, random_state=5)\n",
        "    X_train, X_test = createBagOfWords(X_train, X_test, remove_stopwords=True, lemmatize=True, stemmer=False)\n",
        "    knn = neighbors.KNeighborsClassifier(n_neighbors=3, weights='distance', algorithm='auto', leaf_size=30, p=2, metric='cosine', metric_params=None, n_jobs=1)\n",
        "\n",
        "    knn.fit(X_train, y_train)\n",
        "    predicted = knn.predict(X_test)\n",
        "    acc = metrics.accuracy_score(y_test, predicted)\n",
        "    print('KNN with BOW accuracy = ' + str(acc * 100) + '%')\n",
        "\n",
        "    scores = cross_val_score(knn, X_train, y_train, cv=3)\n",
        "    print(\"Cross Validation Accuracy: %0.2f\" % (scores.mean()))\n",
        "    print(scores)\n",
        "    print('\\n')\n",
        "    return predicted, y_test\n",
        "\n",
        "\n",
        "def tfidf_knn():\n",
        "    \"\"\"Method for determining nearest neighbors using tf-idf and K-Nearest Neighbor algorithm\"\"\"\n",
        "\n",
        "    training_data = pd.read_csv('spam.csv')\n",
        "    training_data['Category'] = training_data['Category'].map({'ham': 0, 'spam': 1})\n",
        "    X_train, X_test, y_train, y_test = train_test_split(training_data[\"Message\"], training_data[\"Category\"], test_size=0.2, random_state=5)\n",
        "    X_train, X_test = createTFIDF(X_train, X_test, remove_stopwords=True, lemmatize=True, stemmer=False)\n",
        "    knn = neighbors.KNeighborsClassifier(n_neighbors=5, weights='distance', algorithm='auto', leaf_size=45, p=4, metric='cosine', metric_params=None, n_jobs=1)\n",
        "\n",
        "    knn.fit(X_train, y_train)\n",
        "    predicted = knn.predict(X_test)\n",
        "    acc = metrics.accuracy_score(y_test, predicted)\n",
        "    print('KNN with TFIDF accuracy = ' + str(acc * 100) + '%')\n",
        "\n",
        "    scores = cross_val_score(knn, X_train, y_train, cv=3)\n",
        "    print(\"Cross Validation Accuracy: %0.2f\" % (scores.mean()))\n",
        "    print(scores)\n",
        "    return predicted, y_test"
      ],
      "execution_count": 34,
      "outputs": []
    },
    {
      "cell_type": "code",
      "metadata": {
        "colab": {
          "base_uri": "https://localhost:8080/"
        },
        "id": "W8PwydHYs1h_",
        "outputId": "8eecc9a9-d3d7-43fc-853c-01e60441851a"
      },
      "source": [
        "# This cell may take some time to run\n",
        "predicted, y_test = bow_knn()"
      ],
      "execution_count": 26,
      "outputs": [
        {
          "output_type": "stream",
          "name": "stdout",
          "text": [
            "KNN with BOW accuracy = 98.47533632286995%\n",
            "Cross Validation Accuracy: 0.97\n",
            "[0.96096904 0.9717362  0.96969697]\n",
            "\n",
            "\n"
          ]
        }
      ]
    },
    {
      "cell_type": "code",
      "source": [
        "# This cell may take some time to run\n",
        "predicted, y_test = tfidf_knn()"
      ],
      "metadata": {
        "colab": {
          "base_uri": "https://localhost:8080/"
        },
        "id": "zf8i2P1nxpl8",
        "outputId": "86ec610a-dfaf-458a-cf1c-9c2044ede6d1"
      },
      "execution_count": 36,
      "outputs": [
        {
          "output_type": "stream",
          "name": "stdout",
          "text": [
            "KNN with TFIDF accuracy = 98.56502242152466%\n",
            "Cross Validation Accuracy: 0.97\n",
            "[0.96837147 0.96769852 0.96363636]\n"
          ]
        }
      ]
    },
    {
      "cell_type": "markdown",
      "source": [
        "### Questions to Think About and Answer\n",
        "1. Why does the TF-IDF approach generally result in a better accuracy than Bag-of-Words ?\n",
        "2. Can you think of techniques that are better than both BoW and TF-IDF ?\n",
        "3. Read about Stemming and Lemmatization from the resources given below. Think about the pros/cons of each."
      ],
      "metadata": {
        "id": "f9xvbzS4yLTr"
      }
    },
    {
      "cell_type": "markdown",
      "source": [
        "## **ANSWERS**\n",
        "\n",
        "1. Bag-of-Words does not represent the contest of the test. That is a drawback of the BoM, Distance between words like (car,care) and (car,carriage) is same.But the words car and care are so different regarding their context, while car and carriage are somewhat similar.TF-IDF assigns weights to the words that depend on the context  of the word.Weights in the TF-IDF are calculated as below\n",
        "\n",
        "\n",
        "> ![tf-idf.jpeg](data:image/jpeg;base64,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)\n",
        "\n",
        "2. **Word2Vec** is another text to vector convertion technique. It focuses on retaining the semantic structure of the words in the document. Consider the words like (king,queen) ,(male,female) , the distance and direction between the king and queen, male and female are same. This also helps in performing vector arithematics.\n",
        "\n",
        "3. **Pros and Cons of Stemming:**\n",
        "    Stemmiing is computationally faster than lemmatization.There would be inaccuracies in the result of the stemming,Because stemming works by chopping off the ends of the word expecting the stem Sometimes this may not return the correct goal stem.\n",
        "    \n",
        "    **Example:** 'saw' on stemming would return 's'.\n",
        "  \n",
        "  **Pros and Cons of Lemmatization:**\n",
        "    Lemmatization is computaionally slower and uses part-of-speech(PoS) for analysis.Lemmatization gives real words or lemma depending on PoS.\n",
        "    \n",
        "    **Example:** 'saw' on lemmatizing would return 'see' or 'saw' depending on 'PoS'.\n"
      ],
      "metadata": {
        "id": "BZ19PzcNaoSx"
      }
    },
    {
      "cell_type": "markdown",
      "source": [
        "### Useful Resources for further reading\n",
        "1. Stemming and Lemmatization: https://nlp.stanford.edu/IR-book/html/htmledition/stemming-and-lemmatization-1.html\n",
        "2. TF-IDF and BoW : https://www.analyticsvidhya.com/blog/2020/02/quick-introduction-bag-of-words-bow-tf-idf/\n",
        "3. TF-IDF: https://scikit-learn.org/stable/modules/generated/sklearn.feature_extraction.text.TfidfTransformer.html\n"
      ],
      "metadata": {
        "id": "T6xPL6smyWG-"
      }
    }
  ]
}